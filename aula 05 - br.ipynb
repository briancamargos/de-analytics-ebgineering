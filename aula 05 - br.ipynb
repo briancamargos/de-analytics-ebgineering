{
  "cells": [
    {
      "cell_type": "markdown",
      "id": "8ca72945",
      "metadata": {
        "id": "8ca72945"
      },
      "source": [
        "# Great Expectations"
      ]
    },
    {
      "cell_type": "markdown",
      "id": "57dc18d2",
      "metadata": {
        "id": "57dc18d2"
      },
      "source": [
        "## Instalando"
      ]
    },
    {
      "cell_type": "code",
      "execution_count": 1,
      "id": "c7a19eae",
      "metadata": {
        "colab": {
          "base_uri": "https://localhost:8080/"
        },
        "id": "c7a19eae",
        "outputId": "ef7e9d3c-f9ff-47f2-a726-81cb7e9af171"
      },
      "outputs": [
        {
          "output_type": "stream",
          "name": "stdout",
          "text": [
            "Looking in indexes: https://pypi.org/simple, https://us-python.pkg.dev/colab-wheels/public/simple/\n",
            "Collecting great_expectations\n",
            "  Downloading great_expectations-0.16.3-py3-none-any.whl (5.3 MB)\n",
            "\u001b[2K     \u001b[90m━━━━━━━━━━━━━━━━━━━━━━━━━━━━━━━━━━━━━━━━\u001b[0m \u001b[32m5.3/5.3 MB\u001b[0m \u001b[31m34.7 MB/s\u001b[0m eta \u001b[36m0:00:00\u001b[0m\n",
            "\u001b[?25hCollecting makefun<2,>=1.7.0\n",
            "  Downloading makefun-1.15.1-py2.py3-none-any.whl (22 kB)\n",
            "Requirement already satisfied: importlib-metadata>=1.7.0 in /usr/local/lib/python3.9/dist-packages (from great_expectations) (6.1.0)\n",
            "Collecting ruamel.yaml<0.17.18,>=0.16\n",
            "  Downloading ruamel.yaml-0.17.17-py3-none-any.whl (109 kB)\n",
            "\u001b[2K     \u001b[90m━━━━━━━━━━━━━━━━━━━━━━━━━━━━━━━━━━━━━━━\u001b[0m \u001b[32m109.1/109.1 KB\u001b[0m \u001b[31m3.6 MB/s\u001b[0m eta \u001b[36m0:00:00\u001b[0m\n",
            "\u001b[?25hCollecting altair<4.2.1,>=4.0.0\n",
            "  Downloading altair-4.2.0-py3-none-any.whl (812 kB)\n",
            "\u001b[2K     \u001b[90m━━━━━━━━━━━━━━━━━━━━━━━━━━━━━━━━━━━━━━\u001b[0m \u001b[32m812.8/812.8 KB\u001b[0m \u001b[31m39.1 MB/s\u001b[0m eta \u001b[36m0:00:00\u001b[0m\n",
            "\u001b[?25hRequirement already satisfied: ipywidgets>=7.5.1 in /usr/local/lib/python3.9/dist-packages (from great_expectations) (7.7.1)\n",
            "Requirement already satisfied: pytz>=2021.3 in /usr/local/lib/python3.9/dist-packages (from great_expectations) (2022.7.1)\n",
            "Requirement already satisfied: jsonschema>=2.5.1 in /usr/local/lib/python3.9/dist-packages (from great_expectations) (4.3.3)\n",
            "Collecting colorama>=0.4.3\n",
            "  Downloading colorama-0.4.6-py2.py3-none-any.whl (25 kB)\n",
            "Requirement already satisfied: tzlocal>=1.2 in /usr/local/lib/python3.9/dist-packages (from great_expectations) (4.3)\n",
            "Requirement already satisfied: urllib3<1.27,>=1.25.4 in /usr/local/lib/python3.9/dist-packages (from great_expectations) (1.26.15)\n",
            "Requirement already satisfied: tqdm>=4.59.0 in /usr/local/lib/python3.9/dist-packages (from great_expectations) (4.65.0)\n",
            "Requirement already satisfied: nbformat>=5.0 in /usr/local/lib/python3.9/dist-packages (from great_expectations) (5.8.0)\n",
            "Collecting jsonpatch>=1.22\n",
            "  Downloading jsonpatch-1.32-py2.py3-none-any.whl (12 kB)\n",
            "Requirement already satisfied: python-dateutil>=2.8.1 in /usr/local/lib/python3.9/dist-packages (from great_expectations) (2.8.2)\n",
            "Requirement already satisfied: mistune>=0.8.4 in /usr/local/lib/python3.9/dist-packages (from great_expectations) (0.8.4)\n",
            "Collecting notebook>=6.4.10\n",
            "  Downloading notebook-6.5.3-py3-none-any.whl (529 kB)\n",
            "\u001b[2K     \u001b[90m━━━━━━━━━━━━━━━━━━━━━━━━━━━━━━━━━━━━━━\u001b[0m \u001b[32m529.7/529.7 KB\u001b[0m \u001b[31m26.3 MB/s\u001b[0m eta \u001b[36m0:00:00\u001b[0m\n",
            "\u001b[?25hRequirement already satisfied: packaging in /usr/local/lib/python3.9/dist-packages (from great_expectations) (23.0)\n",
            "Collecting Ipython>=7.16.3\n",
            "  Downloading ipython-8.11.0-py3-none-any.whl (793 kB)\n",
            "\u001b[2K     \u001b[90m━━━━━━━━━━━━━━━━━━━━━━━━━━━━━━━━━━━━━━\u001b[0m \u001b[32m793.3/793.3 KB\u001b[0m \u001b[31m33.7 MB/s\u001b[0m eta \u001b[36m0:00:00\u001b[0m\n",
            "\u001b[?25hRequirement already satisfied: scipy>=0.19.0 in /usr/local/lib/python3.9/dist-packages (from great_expectations) (1.10.1)\n",
            "Collecting marshmallow<4.0.0,>=3.7.1\n",
            "  Downloading marshmallow-3.19.0-py3-none-any.whl (49 kB)\n",
            "\u001b[2K     \u001b[90m━━━━━━━━━━━━━━━━━━━━━━━━━━━━━━━━━━━━━━━━\u001b[0m \u001b[32m49.1/49.1 KB\u001b[0m \u001b[31m2.7 MB/s\u001b[0m eta \u001b[36m0:00:00\u001b[0m\n",
            "\u001b[?25hRequirement already satisfied: numpy>=1.19.5 in /usr/local/lib/python3.9/dist-packages (from great_expectations) (1.22.4)\n",
            "Requirement already satisfied: jinja2>=2.10 in /usr/local/lib/python3.9/dist-packages (from great_expectations) (3.1.2)\n",
            "Requirement already satisfied: typing-extensions>=3.10.0.0 in /usr/local/lib/python3.9/dist-packages (from great_expectations) (4.5.0)\n",
            "Requirement already satisfied: pandas>=1.1.3 in /usr/local/lib/python3.9/dist-packages (from great_expectations) (1.4.4)\n",
            "Requirement already satisfied: pydantic<2.0,>=1.10.4 in /usr/local/lib/python3.9/dist-packages (from great_expectations) (1.10.7)\n",
            "Requirement already satisfied: cryptography>=3.2 in /usr/local/lib/python3.9/dist-packages (from great_expectations) (39.0.2)\n",
            "Requirement already satisfied: requests>=2.20 in /usr/local/lib/python3.9/dist-packages (from great_expectations) (2.27.1)\n",
            "Requirement already satisfied: pyparsing>=2.4 in /usr/local/lib/python3.9/dist-packages (from great_expectations) (3.0.9)\n",
            "Requirement already satisfied: Click>=7.1.2 in /usr/local/lib/python3.9/dist-packages (from great_expectations) (8.1.3)\n",
            "Requirement already satisfied: entrypoints in /usr/local/lib/python3.9/dist-packages (from altair<4.2.1,>=4.0.0->great_expectations) (0.4)\n",
            "Requirement already satisfied: toolz in /usr/local/lib/python3.9/dist-packages (from altair<4.2.1,>=4.0.0->great_expectations) (0.12.0)\n",
            "Requirement already satisfied: cffi>=1.12 in /usr/local/lib/python3.9/dist-packages (from cryptography>=3.2->great_expectations) (1.15.1)\n",
            "Requirement already satisfied: zipp>=0.5 in /usr/local/lib/python3.9/dist-packages (from importlib-metadata>=1.7.0->great_expectations) (3.15.0)\n",
            "Requirement already satisfied: pygments>=2.4.0 in /usr/local/lib/python3.9/dist-packages (from Ipython>=7.16.3->great_expectations) (2.14.0)\n",
            "Collecting jedi>=0.16\n",
            "  Downloading jedi-0.18.2-py2.py3-none-any.whl (1.6 MB)\n",
            "\u001b[2K     \u001b[90m━━━━━━━━━━━━━━━━━━━━━━━━━━━━━━━━━━━━━━━━\u001b[0m \u001b[32m1.6/1.6 MB\u001b[0m \u001b[31m18.5 MB/s\u001b[0m eta \u001b[36m0:00:00\u001b[0m\n",
            "\u001b[?25hRequirement already satisfied: traitlets>=5 in /usr/local/lib/python3.9/dist-packages (from Ipython>=7.16.3->great_expectations) (5.7.1)\n",
            "Requirement already satisfied: pexpect>4.3 in /usr/local/lib/python3.9/dist-packages (from Ipython>=7.16.3->great_expectations) (4.8.0)\n",
            "Requirement already satisfied: decorator in /usr/local/lib/python3.9/dist-packages (from Ipython>=7.16.3->great_expectations) (4.4.2)\n",
            "Requirement already satisfied: pickleshare in /usr/local/lib/python3.9/dist-packages (from Ipython>=7.16.3->great_expectations) (0.7.5)\n",
            "Collecting matplotlib-inline\n",
            "  Downloading matplotlib_inline-0.1.6-py3-none-any.whl (9.4 kB)\n",
            "Collecting stack-data\n",
            "  Downloading stack_data-0.6.2-py3-none-any.whl (24 kB)\n",
            "Requirement already satisfied: backcall in /usr/local/lib/python3.9/dist-packages (from Ipython>=7.16.3->great_expectations) (0.2.0)\n",
            "Collecting prompt-toolkit!=3.0.37,<3.1.0,>=3.0.30\n",
            "  Downloading prompt_toolkit-3.0.38-py3-none-any.whl (385 kB)\n",
            "\u001b[2K     \u001b[90m━━━━━━━━━━━━━━━━━━━━━━━━━━━━━━━━━━━━━━\u001b[0m \u001b[32m385.8/385.8 KB\u001b[0m \u001b[31m15.3 MB/s\u001b[0m eta \u001b[36m0:00:00\u001b[0m\n",
            "\u001b[?25hRequirement already satisfied: widgetsnbextension~=3.6.0 in /usr/local/lib/python3.9/dist-packages (from ipywidgets>=7.5.1->great_expectations) (3.6.3)\n",
            "Requirement already satisfied: jupyterlab-widgets>=1.0.0 in /usr/local/lib/python3.9/dist-packages (from ipywidgets>=7.5.1->great_expectations) (3.0.6)\n",
            "Requirement already satisfied: ipython-genutils~=0.2.0 in /usr/local/lib/python3.9/dist-packages (from ipywidgets>=7.5.1->great_expectations) (0.2.0)\n",
            "Requirement already satisfied: ipykernel>=4.5.1 in /usr/local/lib/python3.9/dist-packages (from ipywidgets>=7.5.1->great_expectations) (5.3.4)\n",
            "Requirement already satisfied: MarkupSafe>=2.0 in /usr/local/lib/python3.9/dist-packages (from jinja2>=2.10->great_expectations) (2.1.2)\n",
            "Collecting jsonpointer>=1.9\n",
            "  Downloading jsonpointer-2.3-py2.py3-none-any.whl (7.8 kB)\n",
            "Requirement already satisfied: attrs>=17.4.0 in /usr/local/lib/python3.9/dist-packages (from jsonschema>=2.5.1->great_expectations) (22.2.0)\n",
            "Requirement already satisfied: pyrsistent!=0.17.0,!=0.17.1,!=0.17.2,>=0.14.0 in /usr/local/lib/python3.9/dist-packages (from jsonschema>=2.5.1->great_expectations) (0.19.3)\n",
            "Requirement already satisfied: jupyter-core in /usr/local/lib/python3.9/dist-packages (from nbformat>=5.0->great_expectations) (5.3.0)\n",
            "Requirement already satisfied: fastjsonschema in /usr/local/lib/python3.9/dist-packages (from nbformat>=5.0->great_expectations) (2.16.3)\n",
            "Requirement already satisfied: nbconvert>=5 in /usr/local/lib/python3.9/dist-packages (from notebook>=6.4.10->great_expectations) (6.5.4)\n",
            "Requirement already satisfied: pyzmq>=17 in /usr/local/lib/python3.9/dist-packages (from notebook>=6.4.10->great_expectations) (23.2.1)\n",
            "Requirement already satisfied: tornado>=6.1 in /usr/local/lib/python3.9/dist-packages (from notebook>=6.4.10->great_expectations) (6.2)\n",
            "Requirement already satisfied: jupyter-client>=5.3.4 in /usr/local/lib/python3.9/dist-packages (from notebook>=6.4.10->great_expectations) (6.1.12)\n",
            "Requirement already satisfied: nest-asyncio>=1.5 in /usr/local/lib/python3.9/dist-packages (from notebook>=6.4.10->great_expectations) (1.5.6)\n",
            "Collecting nbclassic>=0.4.7\n",
            "  Downloading nbclassic-0.5.3-py3-none-any.whl (10.0 MB)\n",
            "\u001b[2K     \u001b[90m━━━━━━━━━━━━━━━━━━━━━━━━━━━━━━━━━━━━━━━━\u001b[0m \u001b[32m10.0/10.0 MB\u001b[0m \u001b[31m17.2 MB/s\u001b[0m eta \u001b[36m0:00:00\u001b[0m\n",
            "\u001b[?25hRequirement already satisfied: argon2-cffi in /usr/local/lib/python3.9/dist-packages (from notebook>=6.4.10->great_expectations) (21.3.0)\n",
            "Requirement already satisfied: prometheus-client in /usr/local/lib/python3.9/dist-packages (from notebook>=6.4.10->great_expectations) (0.16.0)\n",
            "Requirement already satisfied: terminado>=0.8.3 in /usr/local/lib/python3.9/dist-packages (from notebook>=6.4.10->great_expectations) (0.17.1)\n",
            "Requirement already satisfied: Send2Trash>=1.8.0 in /usr/local/lib/python3.9/dist-packages (from notebook>=6.4.10->great_expectations) (1.8.0)\n",
            "Requirement already satisfied: six>=1.5 in /usr/local/lib/python3.9/dist-packages (from python-dateutil>=2.8.1->great_expectations) (1.16.0)\n",
            "Requirement already satisfied: charset-normalizer~=2.0.0 in /usr/local/lib/python3.9/dist-packages (from requests>=2.20->great_expectations) (2.0.12)\n",
            "Requirement already satisfied: idna<4,>=2.5 in /usr/local/lib/python3.9/dist-packages (from requests>=2.20->great_expectations) (3.4)\n",
            "Requirement already satisfied: certifi>=2017.4.17 in /usr/local/lib/python3.9/dist-packages (from requests>=2.20->great_expectations) (2022.12.7)\n",
            "Collecting ruamel.yaml.clib>=0.1.2\n",
            "  Downloading ruamel.yaml.clib-0.2.7-cp39-cp39-manylinux_2_17_x86_64.manylinux2014_x86_64.manylinux_2_24_x86_64.whl (519 kB)\n",
            "\u001b[2K     \u001b[90m━━━━━━━━━━━━━━━━━━━━━━━━━━━━━━━━━━━━━━\u001b[0m \u001b[32m519.4/519.4 KB\u001b[0m \u001b[31m15.4 MB/s\u001b[0m eta \u001b[36m0:00:00\u001b[0m\n",
            "\u001b[?25hRequirement already satisfied: pytz-deprecation-shim in /usr/local/lib/python3.9/dist-packages (from tzlocal>=1.2->great_expectations) (0.1.0.post0)\n",
            "Requirement already satisfied: pycparser in /usr/local/lib/python3.9/dist-packages (from cffi>=1.12->cryptography>=3.2->great_expectations) (2.21)\n",
            "Requirement already satisfied: parso<0.9.0,>=0.8.0 in /usr/local/lib/python3.9/dist-packages (from jedi>=0.16->Ipython>=7.16.3->great_expectations) (0.8.3)\n",
            "Requirement already satisfied: platformdirs>=2.5 in /usr/local/lib/python3.9/dist-packages (from jupyter-core->nbformat>=5.0->great_expectations) (3.1.1)\n",
            "Collecting jupyter-server>=1.8\n",
            "  Downloading jupyter_server-2.5.0-py3-none-any.whl (366 kB)\n",
            "\u001b[2K     \u001b[90m━━━━━━━━━━━━━━━━━━━━━━━━━━━━━━━━━━━━━━━\u001b[0m \u001b[32m366.8/366.8 KB\u001b[0m \u001b[31m9.2 MB/s\u001b[0m eta \u001b[36m0:00:00\u001b[0m\n",
            "\u001b[?25hCollecting notebook-shim>=0.1.0\n",
            "  Downloading notebook_shim-0.2.2-py3-none-any.whl (13 kB)\n",
            "Requirement already satisfied: bleach in /usr/local/lib/python3.9/dist-packages (from nbconvert>=5->notebook>=6.4.10->great_expectations) (6.0.0)\n",
            "Requirement already satisfied: jupyterlab-pygments in /usr/local/lib/python3.9/dist-packages (from nbconvert>=5->notebook>=6.4.10->great_expectations) (0.2.2)\n",
            "Requirement already satisfied: beautifulsoup4 in /usr/local/lib/python3.9/dist-packages (from nbconvert>=5->notebook>=6.4.10->great_expectations) (4.11.2)\n",
            "Requirement already satisfied: pandocfilters>=1.4.1 in /usr/local/lib/python3.9/dist-packages (from nbconvert>=5->notebook>=6.4.10->great_expectations) (1.5.0)\n",
            "Requirement already satisfied: lxml in /usr/local/lib/python3.9/dist-packages (from nbconvert>=5->notebook>=6.4.10->great_expectations) (4.9.2)\n",
            "Requirement already satisfied: nbclient>=0.5.0 in /usr/local/lib/python3.9/dist-packages (from nbconvert>=5->notebook>=6.4.10->great_expectations) (0.7.2)\n",
            "Requirement already satisfied: tinycss2 in /usr/local/lib/python3.9/dist-packages (from nbconvert>=5->notebook>=6.4.10->great_expectations) (1.2.1)\n",
            "Requirement already satisfied: defusedxml in /usr/local/lib/python3.9/dist-packages (from nbconvert>=5->notebook>=6.4.10->great_expectations) (0.7.1)\n",
            "Requirement already satisfied: ptyprocess>=0.5 in /usr/local/lib/python3.9/dist-packages (from pexpect>4.3->Ipython>=7.16.3->great_expectations) (0.7.0)\n",
            "Requirement already satisfied: wcwidth in /usr/local/lib/python3.9/dist-packages (from prompt-toolkit!=3.0.37,<3.1.0,>=3.0.30->Ipython>=7.16.3->great_expectations) (0.2.6)\n",
            "Requirement already satisfied: argon2-cffi-bindings in /usr/local/lib/python3.9/dist-packages (from argon2-cffi->notebook>=6.4.10->great_expectations) (21.2.0)\n",
            "Requirement already satisfied: tzdata in /usr/local/lib/python3.9/dist-packages (from pytz-deprecation-shim->tzlocal>=1.2->great_expectations) (2022.7)\n",
            "Collecting asttokens>=2.1.0\n",
            "  Downloading asttokens-2.2.1-py2.py3-none-any.whl (26 kB)\n",
            "Collecting executing>=1.2.0\n",
            "  Downloading executing-1.2.0-py2.py3-none-any.whl (24 kB)\n",
            "Collecting pure-eval\n",
            "  Downloading pure_eval-0.2.2-py3-none-any.whl (11 kB)\n",
            "Collecting pyzmq>=17\n",
            "  Downloading pyzmq-25.0.2-cp39-cp39-manylinux_2_12_x86_64.manylinux2010_x86_64.whl (1.1 MB)\n",
            "\u001b[2K     \u001b[90m━━━━━━━━━━━━━━━━━━━━━━━━━━━━━━━━━━━━━━━━\u001b[0m \u001b[32m1.1/1.1 MB\u001b[0m \u001b[31m18.6 MB/s\u001b[0m eta \u001b[36m0:00:00\u001b[0m\n",
            "\u001b[?25hCollecting jupyter-server-terminals\n",
            "  Downloading jupyter_server_terminals-0.4.4-py3-none-any.whl (13 kB)\n",
            "Collecting websocket-client\n",
            "  Downloading websocket_client-1.5.1-py3-none-any.whl (55 kB)\n",
            "\u001b[2K     \u001b[90m━━━━━━━━━━━━━━━━━━━━━━━━━━━━━━━━━━━━━━━━\u001b[0m \u001b[32m55.9/55.9 KB\u001b[0m \u001b[31m3.6 MB/s\u001b[0m eta \u001b[36m0:00:00\u001b[0m\n",
            "\u001b[?25hCollecting anyio>=3.1.0\n",
            "  Downloading anyio-3.6.2-py3-none-any.whl (80 kB)\n",
            "\u001b[2K     \u001b[90m━━━━━━━━━━━━━━━━━━━━━━━━━━━━━━━━━━━━━━━━\u001b[0m \u001b[32m80.6/80.6 KB\u001b[0m \u001b[31m4.7 MB/s\u001b[0m eta \u001b[36m0:00:00\u001b[0m\n",
            "\u001b[?25hCollecting jupyter-events>=0.4.0\n",
            "  Downloading jupyter_events-0.6.3-py3-none-any.whl (18 kB)\n",
            "Collecting jupyter-client>=5.3.4\n",
            "  Downloading jupyter_client-8.1.0-py3-none-any.whl (102 kB)\n",
            "\u001b[2K     \u001b[90m━━━━━━━━━━━━━━━━━━━━━━━━━━━━━━━━━━━━━━━\u001b[0m \u001b[32m102.9/102.9 KB\u001b[0m \u001b[31m4.1 MB/s\u001b[0m eta \u001b[36m0:00:00\u001b[0m\n",
            "\u001b[?25hRequirement already satisfied: soupsieve>1.2 in /usr/local/lib/python3.9/dist-packages (from beautifulsoup4->nbconvert>=5->notebook>=6.4.10->great_expectations) (2.4)\n",
            "Requirement already satisfied: webencodings in /usr/local/lib/python3.9/dist-packages (from bleach->nbconvert>=5->notebook>=6.4.10->great_expectations) (0.5.1)\n",
            "Collecting sniffio>=1.1\n",
            "  Downloading sniffio-1.3.0-py3-none-any.whl (10 kB)\n",
            "Requirement already satisfied: pyyaml>=5.3 in /usr/local/lib/python3.9/dist-packages (from jupyter-events>=0.4.0->jupyter-server>=1.8->nbclassic>=0.4.7->notebook>=6.4.10->great_expectations) (6.0)\n",
            "Collecting rfc3986-validator>=0.1.1\n",
            "  Downloading rfc3986_validator-0.1.1-py2.py3-none-any.whl (4.2 kB)\n",
            "Collecting rfc3339-validator\n",
            "  Downloading rfc3339_validator-0.1.4-py2.py3-none-any.whl (3.5 kB)\n",
            "Collecting python-json-logger>=2.0.4\n",
            "  Downloading python_json_logger-2.0.7-py3-none-any.whl (8.1 kB)\n",
            "\u001b[33mWARNING: jsonschema 4.3.3 does not provide the extra 'format-nongpl'\u001b[0m\u001b[33m\n",
            "\u001b[0mInstalling collected packages: pure-eval, makefun, executing, websocket-client, sniffio, ruamel.yaml.clib, rfc3986-validator, rfc3339-validator, pyzmq, python-json-logger, prompt-toolkit, matplotlib-inline, marshmallow, jsonpointer, jedi, colorama, asttokens, stack-data, ruamel.yaml, jupyter-server-terminals, jupyter-client, jsonpatch, anyio, jupyter-events, Ipython, altair, jupyter-server, notebook-shim, nbclassic, notebook, great_expectations\n",
            "  Attempting uninstall: pyzmq\n",
            "    Found existing installation: pyzmq 23.2.1\n",
            "    Uninstalling pyzmq-23.2.1:\n",
            "      Successfully uninstalled pyzmq-23.2.1\n",
            "  Attempting uninstall: prompt-toolkit\n",
            "    Found existing installation: prompt-toolkit 2.0.10\n",
            "    Uninstalling prompt-toolkit-2.0.10:\n",
            "      Successfully uninstalled prompt-toolkit-2.0.10\n",
            "  Attempting uninstall: jupyter-client\n",
            "    Found existing installation: jupyter-client 6.1.12\n",
            "    Uninstalling jupyter-client-6.1.12:\n",
            "      Successfully uninstalled jupyter-client-6.1.12\n",
            "  Attempting uninstall: Ipython\n",
            "    Found existing installation: ipython 7.9.0\n",
            "    Uninstalling ipython-7.9.0:\n",
            "      Successfully uninstalled ipython-7.9.0\n",
            "  Attempting uninstall: altair\n",
            "    Found existing installation: altair 4.2.2\n",
            "    Uninstalling altair-4.2.2:\n",
            "      Successfully uninstalled altair-4.2.2\n",
            "  Attempting uninstall: notebook\n",
            "    Found existing installation: notebook 6.3.0\n",
            "    Uninstalling notebook-6.3.0:\n",
            "      Successfully uninstalled notebook-6.3.0\n",
            "\u001b[31mERROR: pip's dependency resolver does not currently take into account all the packages that are installed. This behaviour is the source of the following dependency conflicts.\n",
            "google-colab 1.0.0 requires ipython~=7.9.0, but you have ipython 8.11.0 which is incompatible.\n",
            "google-colab 1.0.0 requires notebook~=6.3.0, but you have notebook 6.5.3 which is incompatible.\u001b[0m\u001b[31m\n",
            "\u001b[0mSuccessfully installed Ipython-8.11.0 altair-4.2.0 anyio-3.6.2 asttokens-2.2.1 colorama-0.4.6 executing-1.2.0 great_expectations-0.16.3 jedi-0.18.2 jsonpatch-1.32 jsonpointer-2.3 jupyter-client-8.1.0 jupyter-events-0.6.3 jupyter-server-2.5.0 jupyter-server-terminals-0.4.4 makefun-1.15.1 marshmallow-3.19.0 matplotlib-inline-0.1.6 nbclassic-0.5.3 notebook-6.5.3 notebook-shim-0.2.2 prompt-toolkit-3.0.38 pure-eval-0.2.2 python-json-logger-2.0.7 pyzmq-25.0.2 rfc3339-validator-0.1.4 rfc3986-validator-0.1.1 ruamel.yaml-0.17.17 ruamel.yaml.clib-0.2.7 sniffio-1.3.0 stack-data-0.6.2 websocket-client-1.5.1\n"
          ]
        }
      ],
      "source": [
        "!pip install great_expectations"
      ]
    },
    {
      "cell_type": "markdown",
      "id": "0a091dae",
      "metadata": {
        "id": "0a091dae"
      },
      "source": [
        "## Validando os dados"
      ]
    },
    {
      "cell_type": "markdown",
      "id": "bc5fdd5c",
      "metadata": {
        "id": "bc5fdd5c"
      },
      "source": [
        "Validamos o conjunto de dados com a suíte de expectativas. \n",
        "\n",
        "Em seguida, verificamos se a validação foi bem-sucedida verificando o atributo success do objeto ExpectationValidationResult"
      ]
    },
    {
      "cell_type": "markdown",
      "id": "67c6ee42",
      "metadata": {
        "id": "67c6ee42"
      },
      "source": [
        "### Validação de valores únicos em uma coluna"
      ]
    },
    {
      "cell_type": "code",
      "execution_count": 2,
      "id": "cf3eb7fc",
      "metadata": {
        "id": "cf3eb7fc"
      },
      "outputs": [],
      "source": [
        "import great_expectations as ge\n",
        "import pandas as pd\n",
        "\n",
        "# Criação de um dataframe com uma coluna \"nome\" que deve conter apenas valores únicos\n",
        "df = pd.DataFrame({'nome': ['João', 'Maria', 'João', 'Pedro', 'Ana']})\n"
      ]
    },
    {
      "cell_type": "code",
      "source": [
        "df_ge = ge.dataset.PandasDataset(df)"
      ],
      "metadata": {
        "id": "SLGseZZCty_h"
      },
      "id": "SLGseZZCty_h",
      "execution_count": 3,
      "outputs": []
    },
    {
      "cell_type": "code",
      "source": [
        "result = df_ge.expect_column_values_to_be_unique(column = 'nome')\n",
        "result"
      ],
      "metadata": {
        "colab": {
          "base_uri": "https://localhost:8080/"
        },
        "id": "csMW72mpt-5z",
        "outputId": "56bd6800-050c-4ca5-f9a1-1d1681c26525"
      },
      "id": "csMW72mpt-5z",
      "execution_count": 8,
      "outputs": [
        {
          "output_type": "execute_result",
          "data": {
            "text/plain": [
              "{\n",
              "  \"expectation_config\": {\n",
              "    \"kwargs\": {\n",
              "      \"column\": \"nome\",\n",
              "      \"result_format\": \"BASIC\"\n",
              "    },\n",
              "    \"meta\": {},\n",
              "    \"expectation_type\": \"expect_column_values_to_be_unique\"\n",
              "  },\n",
              "  \"meta\": {},\n",
              "  \"exception_info\": {\n",
              "    \"raised_exception\": false,\n",
              "    \"exception_traceback\": null,\n",
              "    \"exception_message\": null\n",
              "  },\n",
              "  \"result\": {\n",
              "    \"element_count\": 5,\n",
              "    \"missing_count\": 0,\n",
              "    \"missing_percent\": 0.0,\n",
              "    \"unexpected_count\": 2,\n",
              "    \"unexpected_percent\": 40.0,\n",
              "    \"unexpected_percent_total\": 40.0,\n",
              "    \"unexpected_percent_nonmissing\": 40.0,\n",
              "    \"partial_unexpected_list\": [\n",
              "      \"Jo\\u00e3o\",\n",
              "      \"Jo\\u00e3o\"\n",
              "    ]\n",
              "  },\n",
              "  \"success\": false\n",
              "}"
            ]
          },
          "metadata": {},
          "execution_count": 8
        }
      ]
    },
    {
      "cell_type": "code",
      "source": [
        "if result['success']:\n",
        "  print('só há registros unicos')\n",
        "else:\n",
        "  print('há registros repetidos')\n"
      ],
      "metadata": {
        "colab": {
          "base_uri": "https://localhost:8080/"
        },
        "id": "tbjfAxBRu4fE",
        "outputId": "15346a51-00bb-4ea5-8b10-0122ee98b953"
      },
      "id": "tbjfAxBRu4fE",
      "execution_count": 9,
      "outputs": [
        {
          "output_type": "stream",
          "name": "stdout",
          "text": [
            "há registros repetidos\n"
          ]
        }
      ]
    },
    {
      "cell_type": "markdown",
      "id": "afc47ceb",
      "metadata": {
        "id": "afc47ceb"
      },
      "source": [
        "Crie uma expectation que verifica se a coluna \"codigo\" contém apenas valores únicos.\n",
        "\n",
        "Use a função ``expect_column_values_to_be_unique`` para definir essa expectativa"
      ]
    },
    {
      "cell_type": "code",
      "execution_count": 10,
      "id": "9443172a",
      "metadata": {
        "id": "9443172a"
      },
      "outputs": [],
      "source": [
        "# Criando um dataframe com uma coluna \"codigo\" que deve conter valores únicos\n",
        "df = pd.DataFrame({'codigo': [1001, 1002, 1003, 1002, 1004, 1001]})"
      ]
    },
    {
      "cell_type": "code",
      "execution_count": 13,
      "id": "3f14c92e",
      "metadata": {
        "id": "3f14c92e"
      },
      "outputs": [],
      "source": [
        "result = ge.dataset.PandasDataset(df).expect_column_values_to_be_unique('codigo')"
      ]
    },
    {
      "cell_type": "code",
      "source": [
        "result"
      ],
      "metadata": {
        "colab": {
          "base_uri": "https://localhost:8080/"
        },
        "id": "RomCTZuUw5Q3",
        "outputId": "eb3cd0dc-74a2-4293-f04f-fba1461421cd"
      },
      "id": "RomCTZuUw5Q3",
      "execution_count": 14,
      "outputs": [
        {
          "output_type": "execute_result",
          "data": {
            "text/plain": [
              "{\n",
              "  \"expectation_config\": {\n",
              "    \"kwargs\": {\n",
              "      \"column\": \"codigo\",\n",
              "      \"result_format\": \"BASIC\"\n",
              "    },\n",
              "    \"meta\": {},\n",
              "    \"expectation_type\": \"expect_column_values_to_be_unique\"\n",
              "  },\n",
              "  \"meta\": {},\n",
              "  \"exception_info\": {\n",
              "    \"raised_exception\": false,\n",
              "    \"exception_traceback\": null,\n",
              "    \"exception_message\": null\n",
              "  },\n",
              "  \"result\": {\n",
              "    \"element_count\": 6,\n",
              "    \"missing_count\": 0,\n",
              "    \"missing_percent\": 0.0,\n",
              "    \"unexpected_count\": 4,\n",
              "    \"unexpected_percent\": 66.66666666666666,\n",
              "    \"unexpected_percent_total\": 66.66666666666666,\n",
              "    \"unexpected_percent_nonmissing\": 66.66666666666666,\n",
              "    \"partial_unexpected_list\": [\n",
              "      1001,\n",
              "      1002,\n",
              "      1002,\n",
              "      1001\n",
              "    ]\n",
              "  },\n",
              "  \"success\": false\n",
              "}"
            ]
          },
          "metadata": {},
          "execution_count": 14
        }
      ]
    },
    {
      "cell_type": "markdown",
      "id": "7969e8e7",
      "metadata": {
        "id": "7969e8e7"
      },
      "source": [
        "### Validação de valores mínimos e máximos em uma coluna numérica"
      ]
    },
    {
      "cell_type": "code",
      "execution_count": 15,
      "id": "dbcbf61c",
      "metadata": {
        "id": "dbcbf61c"
      },
      "outputs": [],
      "source": [
        "# Criação de um dataframe com uma coluna \"idade\" que deve conter valores numéricos entre 0 e 100\n",
        "df = pd.DataFrame({'idade': [20, 25, 30, 35, 40, 45, 50, 55, 60, 65, 70, 75, 80, 85, 90, 95, 100, 105]})\n"
      ]
    },
    {
      "cell_type": "code",
      "source": [
        "result = df_ge.dataset.PandasDataset(df).expect_column_values_to_be_between(column = 'idade',10,20)\n",
        "result"
      ],
      "metadata": {
        "colab": {
          "base_uri": "https://localhost:8080/",
          "height": 130
        },
        "id": "zEwllMVGxnWc",
        "outputId": "25a0a747-f3c8-465d-daab-5670ecba9e7d"
      },
      "id": "zEwllMVGxnWc",
      "execution_count": 19,
      "outputs": [
        {
          "output_type": "error",
          "ename": "SyntaxError",
          "evalue": "ignored",
          "traceback": [
            "\u001b[0;36m  File \u001b[0;32m\"<ipython-input-19-c9d885515894>\"\u001b[0;36m, line \u001b[0;32m1\u001b[0m\n\u001b[0;31m    result = df_ge.dataset.PandasDataset(df).expect_column_values_to_be_between(column = 'idade',10,20)\u001b[0m\n\u001b[0m                                                                                                      ^\u001b[0m\n\u001b[0;31mSyntaxError\u001b[0m\u001b[0;31m:\u001b[0m positional argument follows keyword argument\n"
          ]
        }
      ]
    },
    {
      "cell_type": "markdown",
      "id": "6a7f2c05",
      "metadata": {
        "id": "6a7f2c05"
      },
      "source": [
        "### Validação de formatos de data em uma coluna"
      ]
    },
    {
      "cell_type": "code",
      "execution_count": 22,
      "id": "00ea2a29",
      "metadata": {
        "scrolled": true,
        "id": "00ea2a29"
      },
      "outputs": [],
      "source": [
        "# Criação de um dataframe com uma coluna \"data\" que deve conter datas no formato 'YYYY-MM-DD'\n",
        "df = pd.DataFrame({'data': ['2022-01-01', '2022-01-02', '2022-01-03', '2022-01-04', '2022-01-05']})\n",
        "\n"
      ]
    },
    {
      "cell_type": "code",
      "source": [
        "df_ge = ge.dataset.PandasDataset(df)\n",
        "result = df_ge.expect_column_values_to_match_regex(column='data', regex='^\\d{4}-\\d{2}-\\d{2}$')\n",
        "result"
      ],
      "metadata": {
        "colab": {
          "base_uri": "https://localhost:8080/"
        },
        "id": "N_cvE_6A0U19",
        "outputId": "a5889d71-e19b-4442-8904-19da771ba004"
      },
      "id": "N_cvE_6A0U19",
      "execution_count": 24,
      "outputs": [
        {
          "output_type": "stream",
          "name": "stderr",
          "text": [
            "WARNING:py.warnings:<>:2: DeprecationWarning: invalid escape sequence \\d\n",
            "\n",
            "WARNING:py.warnings:<>:2: DeprecationWarning: invalid escape sequence \\d\n",
            "\n",
            "WARNING:py.warnings:<ipython-input-24-a0c8c32406ba>:2: DeprecationWarning: invalid escape sequence \\d\n",
            "  result = df_ge.expect_column_values_to_match_regex(column='data', regex='^\\d{4}-\\d{2}-\\d{2}$')\n",
            "\n"
          ]
        },
        {
          "output_type": "execute_result",
          "data": {
            "text/plain": [
              "{\n",
              "  \"expectation_config\": {\n",
              "    \"kwargs\": {\n",
              "      \"column\": \"data\",\n",
              "      \"regex\": \"^\\\\d{4}-\\\\d{2}-\\\\d{2}$\",\n",
              "      \"result_format\": \"BASIC\"\n",
              "    },\n",
              "    \"meta\": {},\n",
              "    \"expectation_type\": \"expect_column_values_to_match_regex\"\n",
              "  },\n",
              "  \"meta\": {},\n",
              "  \"exception_info\": {\n",
              "    \"raised_exception\": false,\n",
              "    \"exception_traceback\": null,\n",
              "    \"exception_message\": null\n",
              "  },\n",
              "  \"result\": {\n",
              "    \"element_count\": 5,\n",
              "    \"missing_count\": 0,\n",
              "    \"missing_percent\": 0.0,\n",
              "    \"unexpected_count\": 0,\n",
              "    \"unexpected_percent\": 0.0,\n",
              "    \"unexpected_percent_total\": 0.0,\n",
              "    \"unexpected_percent_nonmissing\": 0.0,\n",
              "    \"partial_unexpected_list\": []\n",
              "  },\n",
              "  \"success\": true\n",
              "}"
            ]
          },
          "metadata": {},
          "execution_count": 24
        }
      ]
    },
    {
      "cell_type": "markdown",
      "id": "3d71a8fb",
      "metadata": {
        "id": "3d71a8fb"
      },
      "source": [
        "### Validação de valores nulos em uma coluna\n",
        "\n",
        "Criaremos uma Expectation que verifica se a coluna \"salario\" não contém valores nulos"
      ]
    },
    {
      "cell_type": "code",
      "execution_count": 32,
      "id": "a13d41c8",
      "metadata": {
        "scrolled": true,
        "id": "a13d41c8"
      },
      "outputs": [],
      "source": [
        "# Criação de um dataframe com uma coluna \"salario\" que não deve conter valores nulos\n",
        "df = pd.DataFrame({'salario': [2000, 2500, 3000, None, 4000, 4500]})\n",
        "\n"
      ]
    },
    {
      "cell_type": "code",
      "source": [
        "df_ge = ge.dataset.PandasDataset(df)\n",
        "result = df_ge.expect_column_values_to_not_be_null(column = 'salario')\n",
        "result"
      ],
      "metadata": {
        "colab": {
          "base_uri": "https://localhost:8080/"
        },
        "id": "9jHeDVg74oKK",
        "outputId": "6ca95fbb-0621-4a06-9065-ba338e9b77e8"
      },
      "id": "9jHeDVg74oKK",
      "execution_count": 33,
      "outputs": [
        {
          "output_type": "execute_result",
          "data": {
            "text/plain": [
              "{\n",
              "  \"expectation_config\": {\n",
              "    \"kwargs\": {\n",
              "      \"column\": \"salario\",\n",
              "      \"result_format\": \"BASIC\"\n",
              "    },\n",
              "    \"meta\": {},\n",
              "    \"expectation_type\": \"expect_column_values_to_not_be_null\"\n",
              "  },\n",
              "  \"meta\": {},\n",
              "  \"exception_info\": {\n",
              "    \"raised_exception\": false,\n",
              "    \"exception_traceback\": null,\n",
              "    \"exception_message\": null\n",
              "  },\n",
              "  \"result\": {\n",
              "    \"element_count\": 6,\n",
              "    \"unexpected_count\": 1,\n",
              "    \"unexpected_percent\": 16.666666666666664,\n",
              "    \"unexpected_percent_total\": 16.666666666666664,\n",
              "    \"partial_unexpected_list\": []\n",
              "  },\n",
              "  \"success\": false\n",
              "}"
            ]
          },
          "metadata": {},
          "execution_count": 33
        }
      ]
    },
    {
      "cell_type": "markdown",
      "id": "bb652cb0",
      "metadata": {
        "id": "bb652cb0"
      },
      "source": [
        "### Validação de formatos de string em uma coluna\n",
        "\n",
        "Vamos criar uma Expectation que verifica se a coluna \"cpf\" contém apenas CPFs no formato 'XXX.XXX.XXX-XX'. \n",
        "\n",
        "Usaremos a função ``expect_column_values_to_match_regex`` para definir essa expectativa."
      ]
    },
    {
      "cell_type": "code",
      "execution_count": 29,
      "id": "c30ca7df",
      "metadata": {
        "id": "c30ca7df"
      },
      "outputs": [],
      "source": [
        "\n",
        "# Criação de um dataframe com uma coluna \"cpf\" que deve conter CPFs no formato 'XXX.XXX.XXX-XX'\n",
        "df = pd.DataFrame({'cpf': ['123.456.789-10', '234.567.890-12', '345.678.901-23', '456.789.012-34', '567.890.123-45']})\n",
        "\n"
      ]
    },
    {
      "cell_type": "code",
      "source": [
        "df_ge = ge.dataset.PandasDataset(df)\n",
        "result = df_ge.expect_column_values_to_match_regex(column='cpf', regex='^\\d{3}.\\d{3}.\\d{3}-\\d{2}$')\n",
        "result"
      ],
      "metadata": {
        "colab": {
          "base_uri": "https://localhost:8080/"
        },
        "id": "dKUhQtXn4Cml",
        "outputId": "c3718f44-6a3d-44ce-e2d3-958336cadc11"
      },
      "id": "dKUhQtXn4Cml",
      "execution_count": 30,
      "outputs": [
        {
          "output_type": "stream",
          "name": "stderr",
          "text": [
            "WARNING:py.warnings:<>:2: DeprecationWarning: invalid escape sequence \\d\n",
            "\n",
            "WARNING:py.warnings:<>:2: DeprecationWarning: invalid escape sequence \\d\n",
            "\n",
            "WARNING:py.warnings:<ipython-input-30-8214b6b86cfa>:2: DeprecationWarning: invalid escape sequence \\d\n",
            "  result = df_ge.expect_column_values_to_match_regex(column='cpf', regex='^\\d{3}.\\d{3}.\\d{3}-\\d{2}$')\n",
            "\n"
          ]
        },
        {
          "output_type": "execute_result",
          "data": {
            "text/plain": [
              "{\n",
              "  \"expectation_config\": {\n",
              "    \"kwargs\": {\n",
              "      \"column\": \"cpf\",\n",
              "      \"regex\": \"^\\\\d{3}.\\\\d{3}.\\\\d{3}-\\\\d{2}$\",\n",
              "      \"result_format\": \"BASIC\"\n",
              "    },\n",
              "    \"meta\": {},\n",
              "    \"expectation_type\": \"expect_column_values_to_match_regex\"\n",
              "  },\n",
              "  \"meta\": {},\n",
              "  \"exception_info\": {\n",
              "    \"raised_exception\": false,\n",
              "    \"exception_traceback\": null,\n",
              "    \"exception_message\": null\n",
              "  },\n",
              "  \"result\": {\n",
              "    \"element_count\": 5,\n",
              "    \"missing_count\": 0,\n",
              "    \"missing_percent\": 0.0,\n",
              "    \"unexpected_count\": 0,\n",
              "    \"unexpected_percent\": 0.0,\n",
              "    \"unexpected_percent_total\": 0.0,\n",
              "    \"unexpected_percent_nonmissing\": 0.0,\n",
              "    \"partial_unexpected_list\": []\n",
              "  },\n",
              "  \"success\": true\n",
              "}"
            ]
          },
          "metadata": {},
          "execution_count": 30
        }
      ]
    },
    {
      "cell_type": "markdown",
      "id": "736de557",
      "metadata": {
        "id": "736de557"
      },
      "source": [
        "### Validação de valores numéricos em uma coluna\n",
        "\n",
        "Use a função ``expect_column_values_to_be_between`` para verificar se a coluna \"idade\" contém apenas valores entre 18 e 60 anos.\n",
        "\n",
        "Passamos os valores mínimo e máximo permitidos como argumentos. Em seguida, validamos o conjunto de dados com a suíte de expectativas e verificamos se a validação foi bem-sucedida.\n"
      ]
    },
    {
      "cell_type": "code",
      "execution_count": 48,
      "id": "b08369c7",
      "metadata": {
        "colab": {
          "base_uri": "https://localhost:8080/",
          "height": 238
        },
        "id": "b08369c7",
        "outputId": "460cc47d-e49c-4f62-d943-bdeba9d9614e"
      },
      "outputs": [
        {
          "output_type": "execute_result",
          "data": {
            "text/plain": [
              "   idade\n",
              "0     25\n",
              "1     40\n",
              "2     50\n",
              "3     32\n",
              "4     18\n",
              "5     70"
            ],
            "text/html": [
              "\n",
              "  <div id=\"df-c93825fe-d6f5-49c2-bec1-7819d07de92c\">\n",
              "    <div class=\"colab-df-container\">\n",
              "      <div>\n",
              "<style scoped>\n",
              "    .dataframe tbody tr th:only-of-type {\n",
              "        vertical-align: middle;\n",
              "    }\n",
              "\n",
              "    .dataframe tbody tr th {\n",
              "        vertical-align: top;\n",
              "    }\n",
              "\n",
              "    .dataframe thead th {\n",
              "        text-align: right;\n",
              "    }\n",
              "</style>\n",
              "<table border=\"1\" class=\"dataframe\">\n",
              "  <thead>\n",
              "    <tr style=\"text-align: right;\">\n",
              "      <th></th>\n",
              "      <th>idade</th>\n",
              "    </tr>\n",
              "  </thead>\n",
              "  <tbody>\n",
              "    <tr>\n",
              "      <th>0</th>\n",
              "      <td>25</td>\n",
              "    </tr>\n",
              "    <tr>\n",
              "      <th>1</th>\n",
              "      <td>40</td>\n",
              "    </tr>\n",
              "    <tr>\n",
              "      <th>2</th>\n",
              "      <td>50</td>\n",
              "    </tr>\n",
              "    <tr>\n",
              "      <th>3</th>\n",
              "      <td>32</td>\n",
              "    </tr>\n",
              "    <tr>\n",
              "      <th>4</th>\n",
              "      <td>18</td>\n",
              "    </tr>\n",
              "    <tr>\n",
              "      <th>5</th>\n",
              "      <td>70</td>\n",
              "    </tr>\n",
              "  </tbody>\n",
              "</table>\n",
              "</div>\n",
              "      <button class=\"colab-df-convert\" onclick=\"convertToInteractive('df-c93825fe-d6f5-49c2-bec1-7819d07de92c')\"\n",
              "              title=\"Convert this dataframe to an interactive table.\"\n",
              "              style=\"display:none;\">\n",
              "        \n",
              "  <svg xmlns=\"http://www.w3.org/2000/svg\" height=\"24px\"viewBox=\"0 0 24 24\"\n",
              "       width=\"24px\">\n",
              "    <path d=\"M0 0h24v24H0V0z\" fill=\"none\"/>\n",
              "    <path d=\"M18.56 5.44l.94 2.06.94-2.06 2.06-.94-2.06-.94-.94-2.06-.94 2.06-2.06.94zm-11 1L8.5 8.5l.94-2.06 2.06-.94-2.06-.94L8.5 2.5l-.94 2.06-2.06.94zm10 10l.94 2.06.94-2.06 2.06-.94-2.06-.94-.94-2.06-.94 2.06-2.06.94z\"/><path d=\"M17.41 7.96l-1.37-1.37c-.4-.4-.92-.59-1.43-.59-.52 0-1.04.2-1.43.59L10.3 9.45l-7.72 7.72c-.78.78-.78 2.05 0 2.83L4 21.41c.39.39.9.59 1.41.59.51 0 1.02-.2 1.41-.59l7.78-7.78 2.81-2.81c.8-.78.8-2.07 0-2.86zM5.41 20L4 18.59l7.72-7.72 1.47 1.35L5.41 20z\"/>\n",
              "  </svg>\n",
              "      </button>\n",
              "      \n",
              "  <style>\n",
              "    .colab-df-container {\n",
              "      display:flex;\n",
              "      flex-wrap:wrap;\n",
              "      gap: 12px;\n",
              "    }\n",
              "\n",
              "    .colab-df-convert {\n",
              "      background-color: #E8F0FE;\n",
              "      border: none;\n",
              "      border-radius: 50%;\n",
              "      cursor: pointer;\n",
              "      display: none;\n",
              "      fill: #1967D2;\n",
              "      height: 32px;\n",
              "      padding: 0 0 0 0;\n",
              "      width: 32px;\n",
              "    }\n",
              "\n",
              "    .colab-df-convert:hover {\n",
              "      background-color: #E2EBFA;\n",
              "      box-shadow: 0px 1px 2px rgba(60, 64, 67, 0.3), 0px 1px 3px 1px rgba(60, 64, 67, 0.15);\n",
              "      fill: #174EA6;\n",
              "    }\n",
              "\n",
              "    [theme=dark] .colab-df-convert {\n",
              "      background-color: #3B4455;\n",
              "      fill: #D2E3FC;\n",
              "    }\n",
              "\n",
              "    [theme=dark] .colab-df-convert:hover {\n",
              "      background-color: #434B5C;\n",
              "      box-shadow: 0px 1px 3px 1px rgba(0, 0, 0, 0.15);\n",
              "      filter: drop-shadow(0px 1px 2px rgba(0, 0, 0, 0.3));\n",
              "      fill: #FFFFFF;\n",
              "    }\n",
              "  </style>\n",
              "\n",
              "      <script>\n",
              "        const buttonEl =\n",
              "          document.querySelector('#df-c93825fe-d6f5-49c2-bec1-7819d07de92c button.colab-df-convert');\n",
              "        buttonEl.style.display =\n",
              "          google.colab.kernel.accessAllowed ? 'block' : 'none';\n",
              "\n",
              "        async function convertToInteractive(key) {\n",
              "          const element = document.querySelector('#df-c93825fe-d6f5-49c2-bec1-7819d07de92c');\n",
              "          const dataTable =\n",
              "            await google.colab.kernel.invokeFunction('convertToInteractive',\n",
              "                                                     [key], {});\n",
              "          if (!dataTable) return;\n",
              "\n",
              "          const docLinkHtml = 'Like what you see? Visit the ' +\n",
              "            '<a target=\"_blank\" href=https://colab.research.google.com/notebooks/data_table.ipynb>data table notebook</a>'\n",
              "            + ' to learn more about interactive tables.';\n",
              "          element.innerHTML = '';\n",
              "          dataTable['output_type'] = 'display_data';\n",
              "          await google.colab.output.renderOutput(dataTable, element);\n",
              "          const docLink = document.createElement('div');\n",
              "          docLink.innerHTML = docLinkHtml;\n",
              "          element.appendChild(docLink);\n",
              "        }\n",
              "      </script>\n",
              "    </div>\n",
              "  </div>\n",
              "  "
            ]
          },
          "metadata": {},
          "execution_count": 48
        }
      ],
      "source": [
        "# Criação de um dataframe com uma coluna \"idade\" que deve conter valores entre 18 e 60 anos\n",
        "df = pd.DataFrame({'idade': [25, 40, 50, 32, 18, 70]})\n",
        "df\n"
      ]
    },
    {
      "cell_type": "code",
      "source": [
        "df_ge = ge.dataset.PandasDataset(df)\n",
        "result = df_ge.expect_column_values_to_be_between(column='idade', min_value= 18, max_value= 60)\n",
        "result"
      ],
      "metadata": {
        "colab": {
          "base_uri": "https://localhost:8080/"
        },
        "id": "55MpjRCV5abB",
        "outputId": "4f22d5bd-fe32-4fac-e004-81a69ec606d5"
      },
      "id": "55MpjRCV5abB",
      "execution_count": 49,
      "outputs": [
        {
          "output_type": "execute_result",
          "data": {
            "text/plain": [
              "{\n",
              "  \"expectation_config\": {\n",
              "    \"kwargs\": {\n",
              "      \"column\": \"idade\",\n",
              "      \"min_value\": 18,\n",
              "      \"max_value\": 60,\n",
              "      \"result_format\": \"BASIC\"\n",
              "    },\n",
              "    \"meta\": {},\n",
              "    \"expectation_type\": \"expect_column_values_to_be_between\"\n",
              "  },\n",
              "  \"meta\": {},\n",
              "  \"exception_info\": {\n",
              "    \"raised_exception\": false,\n",
              "    \"exception_traceback\": null,\n",
              "    \"exception_message\": null\n",
              "  },\n",
              "  \"result\": {\n",
              "    \"element_count\": 6,\n",
              "    \"missing_count\": 0,\n",
              "    \"missing_percent\": 0.0,\n",
              "    \"unexpected_count\": 1,\n",
              "    \"unexpected_percent\": 16.666666666666664,\n",
              "    \"unexpected_percent_total\": 16.666666666666664,\n",
              "    \"unexpected_percent_nonmissing\": 16.666666666666664,\n",
              "    \"partial_unexpected_list\": [\n",
              "      70\n",
              "    ]\n",
              "  },\n",
              "  \"success\": false\n",
              "}"
            ]
          },
          "metadata": {},
          "execution_count": 49
        }
      ]
    },
    {
      "cell_type": "markdown",
      "id": "93798913",
      "metadata": {
        "id": "93798913"
      },
      "source": [
        "### Validação de contagem de valores em uma coluna\n",
        "\n",
        "\n",
        "Vamos criar um dataframe com uma coluna \"cidade\" e usar a função ``expect_column_value_counts_to_be_between`` para definir se a coluna \"cidade\" contém pelo menos 3 ocorrências de cada cidade. \n",
        "\n",
        "Em seguida, passamos um dicionário com os valores esperados de cada cidade e um valor mínimo e máximo de ocorrências permitidas. "
      ]
    },
    {
      "cell_type": "code",
      "execution_count": 61,
      "id": "7b368d79",
      "metadata": {
        "colab": {
          "base_uri": "https://localhost:8080/",
          "height": 332
        },
        "id": "7b368d79",
        "outputId": "88cf0885-a81a-464a-9e99-fd27f0607843"
      },
      "outputs": [
        {
          "output_type": "execute_result",
          "data": {
            "text/plain": [
              "           cidade\n",
              "0       São Paulo\n",
              "1  Rio de Janeiro\n",
              "2  Belo Horizonte\n",
              "3       São Paulo\n",
              "4  Rio de Janeiro\n",
              "5  Belo Horizonte\n",
              "6       São Paulo\n",
              "7  Rio de Janeiro\n",
              "8  Belo Horizonte"
            ],
            "text/html": [
              "\n",
              "  <div id=\"df-7934ed09-69ba-4837-8199-6f0fb656960d\">\n",
              "    <div class=\"colab-df-container\">\n",
              "      <div>\n",
              "<style scoped>\n",
              "    .dataframe tbody tr th:only-of-type {\n",
              "        vertical-align: middle;\n",
              "    }\n",
              "\n",
              "    .dataframe tbody tr th {\n",
              "        vertical-align: top;\n",
              "    }\n",
              "\n",
              "    .dataframe thead th {\n",
              "        text-align: right;\n",
              "    }\n",
              "</style>\n",
              "<table border=\"1\" class=\"dataframe\">\n",
              "  <thead>\n",
              "    <tr style=\"text-align: right;\">\n",
              "      <th></th>\n",
              "      <th>cidade</th>\n",
              "    </tr>\n",
              "  </thead>\n",
              "  <tbody>\n",
              "    <tr>\n",
              "      <th>0</th>\n",
              "      <td>São Paulo</td>\n",
              "    </tr>\n",
              "    <tr>\n",
              "      <th>1</th>\n",
              "      <td>Rio de Janeiro</td>\n",
              "    </tr>\n",
              "    <tr>\n",
              "      <th>2</th>\n",
              "      <td>Belo Horizonte</td>\n",
              "    </tr>\n",
              "    <tr>\n",
              "      <th>3</th>\n",
              "      <td>São Paulo</td>\n",
              "    </tr>\n",
              "    <tr>\n",
              "      <th>4</th>\n",
              "      <td>Rio de Janeiro</td>\n",
              "    </tr>\n",
              "    <tr>\n",
              "      <th>5</th>\n",
              "      <td>Belo Horizonte</td>\n",
              "    </tr>\n",
              "    <tr>\n",
              "      <th>6</th>\n",
              "      <td>São Paulo</td>\n",
              "    </tr>\n",
              "    <tr>\n",
              "      <th>7</th>\n",
              "      <td>Rio de Janeiro</td>\n",
              "    </tr>\n",
              "    <tr>\n",
              "      <th>8</th>\n",
              "      <td>Belo Horizonte</td>\n",
              "    </tr>\n",
              "  </tbody>\n",
              "</table>\n",
              "</div>\n",
              "      <button class=\"colab-df-convert\" onclick=\"convertToInteractive('df-7934ed09-69ba-4837-8199-6f0fb656960d')\"\n",
              "              title=\"Convert this dataframe to an interactive table.\"\n",
              "              style=\"display:none;\">\n",
              "        \n",
              "  <svg xmlns=\"http://www.w3.org/2000/svg\" height=\"24px\"viewBox=\"0 0 24 24\"\n",
              "       width=\"24px\">\n",
              "    <path d=\"M0 0h24v24H0V0z\" fill=\"none\"/>\n",
              "    <path d=\"M18.56 5.44l.94 2.06.94-2.06 2.06-.94-2.06-.94-.94-2.06-.94 2.06-2.06.94zm-11 1L8.5 8.5l.94-2.06 2.06-.94-2.06-.94L8.5 2.5l-.94 2.06-2.06.94zm10 10l.94 2.06.94-2.06 2.06-.94-2.06-.94-.94-2.06-.94 2.06-2.06.94z\"/><path d=\"M17.41 7.96l-1.37-1.37c-.4-.4-.92-.59-1.43-.59-.52 0-1.04.2-1.43.59L10.3 9.45l-7.72 7.72c-.78.78-.78 2.05 0 2.83L4 21.41c.39.39.9.59 1.41.59.51 0 1.02-.2 1.41-.59l7.78-7.78 2.81-2.81c.8-.78.8-2.07 0-2.86zM5.41 20L4 18.59l7.72-7.72 1.47 1.35L5.41 20z\"/>\n",
              "  </svg>\n",
              "      </button>\n",
              "      \n",
              "  <style>\n",
              "    .colab-df-container {\n",
              "      display:flex;\n",
              "      flex-wrap:wrap;\n",
              "      gap: 12px;\n",
              "    }\n",
              "\n",
              "    .colab-df-convert {\n",
              "      background-color: #E8F0FE;\n",
              "      border: none;\n",
              "      border-radius: 50%;\n",
              "      cursor: pointer;\n",
              "      display: none;\n",
              "      fill: #1967D2;\n",
              "      height: 32px;\n",
              "      padding: 0 0 0 0;\n",
              "      width: 32px;\n",
              "    }\n",
              "\n",
              "    .colab-df-convert:hover {\n",
              "      background-color: #E2EBFA;\n",
              "      box-shadow: 0px 1px 2px rgba(60, 64, 67, 0.3), 0px 1px 3px 1px rgba(60, 64, 67, 0.15);\n",
              "      fill: #174EA6;\n",
              "    }\n",
              "\n",
              "    [theme=dark] .colab-df-convert {\n",
              "      background-color: #3B4455;\n",
              "      fill: #D2E3FC;\n",
              "    }\n",
              "\n",
              "    [theme=dark] .colab-df-convert:hover {\n",
              "      background-color: #434B5C;\n",
              "      box-shadow: 0px 1px 3px 1px rgba(0, 0, 0, 0.15);\n",
              "      filter: drop-shadow(0px 1px 2px rgba(0, 0, 0, 0.3));\n",
              "      fill: #FFFFFF;\n",
              "    }\n",
              "  </style>\n",
              "\n",
              "      <script>\n",
              "        const buttonEl =\n",
              "          document.querySelector('#df-7934ed09-69ba-4837-8199-6f0fb656960d button.colab-df-convert');\n",
              "        buttonEl.style.display =\n",
              "          google.colab.kernel.accessAllowed ? 'block' : 'none';\n",
              "\n",
              "        async function convertToInteractive(key) {\n",
              "          const element = document.querySelector('#df-7934ed09-69ba-4837-8199-6f0fb656960d');\n",
              "          const dataTable =\n",
              "            await google.colab.kernel.invokeFunction('convertToInteractive',\n",
              "                                                     [key], {});\n",
              "          if (!dataTable) return;\n",
              "\n",
              "          const docLinkHtml = 'Like what you see? Visit the ' +\n",
              "            '<a target=\"_blank\" href=https://colab.research.google.com/notebooks/data_table.ipynb>data table notebook</a>'\n",
              "            + ' to learn more about interactive tables.';\n",
              "          element.innerHTML = '';\n",
              "          dataTable['output_type'] = 'display_data';\n",
              "          await google.colab.output.renderOutput(dataTable, element);\n",
              "          const docLink = document.createElement('div');\n",
              "          docLink.innerHTML = docLinkHtml;\n",
              "          element.appendChild(docLink);\n",
              "        }\n",
              "      </script>\n",
              "    </div>\n",
              "  </div>\n",
              "  "
            ]
          },
          "metadata": {},
          "execution_count": 61
        }
      ],
      "source": [
        "# Criação de um dataframe com uma coluna \"cidade\" que deve conter pelo menos 3 ocorrências de cada cidade\n",
        "df = pd.DataFrame({'cidade': ['São Paulo', 'Rio de Janeiro', 'Belo Horizonte', 'São Paulo', 'Rio de Janeiro', 'Belo Horizonte', 'São Paulo', 'Rio de Janeiro', 'Belo Horizonte']})\n",
        "\n",
        "df"
      ]
    },
    {
      "cell_type": "code",
      "source": [
        "df_ge = ge.dataset.PandasDataset(df)\n",
        "result = df_ge.expect_column_unique_value_count_to_be_between(column = 'cidade', min_value=3, max_value=5)\n",
        "result"
      ],
      "metadata": {
        "colab": {
          "base_uri": "https://localhost:8080/"
        },
        "id": "yN1nwYfk6kd-",
        "outputId": "77a09421-03ab-41d0-b4ec-1a5759c94c72"
      },
      "id": "yN1nwYfk6kd-",
      "execution_count": 62,
      "outputs": [
        {
          "output_type": "execute_result",
          "data": {
            "text/plain": [
              "{\n",
              "  \"expectation_config\": {\n",
              "    \"kwargs\": {\n",
              "      \"column\": \"cidade\",\n",
              "      \"min_value\": 3,\n",
              "      \"max_value\": 5,\n",
              "      \"result_format\": \"BASIC\"\n",
              "    },\n",
              "    \"meta\": {},\n",
              "    \"expectation_type\": \"expect_column_unique_value_count_to_be_between\"\n",
              "  },\n",
              "  \"meta\": {},\n",
              "  \"exception_info\": {\n",
              "    \"raised_exception\": false,\n",
              "    \"exception_traceback\": null,\n",
              "    \"exception_message\": null\n",
              "  },\n",
              "  \"result\": {\n",
              "    \"observed_value\": 3,\n",
              "    \"element_count\": 9,\n",
              "    \"missing_count\": null,\n",
              "    \"missing_percent\": null\n",
              "  },\n",
              "  \"success\": true\n",
              "}"
            ]
          },
          "metadata": {},
          "execution_count": 62
        }
      ]
    },
    {
      "cell_type": "markdown",
      "id": "1501ceda",
      "metadata": {
        "id": "1501ceda"
      },
      "source": [
        "## Salve sua suíte Expectation"
      ]
    },
    {
      "cell_type": "code",
      "execution_count": 63,
      "id": "b6452102",
      "metadata": {
        "colab": {
          "base_uri": "https://localhost:8080/",
          "height": 235
        },
        "id": "b6452102",
        "outputId": "85224da5-95f6-4443-c661-379d383b2298"
      },
      "outputs": [
        {
          "output_type": "error",
          "ename": "FileNotFoundError",
          "evalue": "ignored",
          "traceback": [
            "\u001b[0;31m---------------------------------------------------------------------------\u001b[0m",
            "\u001b[0;31mFileNotFoundError\u001b[0m                         Traceback (most recent call last)",
            "\u001b[0;32m<ipython-input-63-40e6114685cb>\u001b[0m in \u001b[0;36m<module>\u001b[0;34m\u001b[0m\n\u001b[1;32m      1\u001b[0m \u001b[0;32mimport\u001b[0m \u001b[0mjson\u001b[0m\u001b[0;34m\u001b[0m\u001b[0;34m\u001b[0m\u001b[0m\n\u001b[1;32m      2\u001b[0m \u001b[0;34m\u001b[0m\u001b[0m\n\u001b[0;32m----> 3\u001b[0;31m \u001b[0;32mwith\u001b[0m \u001b[0mopen\u001b[0m\u001b[0;34m(\u001b[0m \u001b[0;34m\"data/expectations.json\"\u001b[0m\u001b[0;34m,\u001b[0m \u001b[0;34m\"w\"\u001b[0m\u001b[0;34m)\u001b[0m \u001b[0;32mas\u001b[0m \u001b[0mmy_file\u001b[0m\u001b[0;34m:\u001b[0m\u001b[0;34m\u001b[0m\u001b[0;34m\u001b[0m\u001b[0m\n\u001b[0m\u001b[1;32m      4\u001b[0m     my_file.write(\n\u001b[1;32m      5\u001b[0m         \u001b[0mjson\u001b[0m\u001b[0;34m.\u001b[0m\u001b[0mdumps\u001b[0m\u001b[0;34m(\u001b[0m\u001b[0mdf\u001b[0m\u001b[0;34m.\u001b[0m\u001b[0mget_expectation_suite\u001b[0m\u001b[0;34m(\u001b[0m\u001b[0;34m)\u001b[0m\u001b[0;34m.\u001b[0m\u001b[0mto_json_dict\u001b[0m\u001b[0;34m(\u001b[0m\u001b[0;34m)\u001b[0m\u001b[0;34m)\u001b[0m\u001b[0;34m\u001b[0m\u001b[0;34m\u001b[0m\u001b[0m\n",
            "\u001b[0;31mFileNotFoundError\u001b[0m: [Errno 2] No such file or directory: 'data/expectations.json'"
          ]
        }
      ],
      "source": [
        "import json\n",
        "\n",
        "with open( \"data/expectations.json\", \"w\") as my_file:\n",
        "    my_file.write(\n",
        "        json.dumps(df.get_expectation_suite().to_json_dict())\n",
        "    )"
      ]
    },
    {
      "cell_type": "code",
      "execution_count": null,
      "id": "651855e2",
      "metadata": {
        "id": "651855e2"
      },
      "outputs": [],
      "source": []
    },
    {
      "cell_type": "markdown",
      "id": "b5d1cb8d",
      "metadata": {
        "id": "b5d1cb8d"
      },
      "source": [
        "## Carregando dados"
      ]
    },
    {
      "cell_type": "code",
      "execution_count": null,
      "id": "fc40a5f3",
      "metadata": {
        "id": "fc40a5f3"
      },
      "outputs": [],
      "source": [
        "import great_expectations as gx\n",
        "import pandas as pd\n",
        "\n",
        "df = gx.read_csv('data/us_tax_data_2016.csv')"
      ]
    },
    {
      "cell_type": "code",
      "execution_count": null,
      "id": "851efd26",
      "metadata": {
        "scrolled": true,
        "id": "851efd26"
      },
      "outputs": [],
      "source": [
        "df.head()"
      ]
    },
    {
      "cell_type": "markdown",
      "id": "bf1ccbd7",
      "metadata": {
        "id": "bf1ccbd7"
      },
      "source": [
        "## Definindo expectativas dos dados"
      ]
    },
    {
      "cell_type": "code",
      "execution_count": null,
      "id": "a9dec7c9",
      "metadata": {
        "scrolled": true,
        "id": "a9dec7c9"
      },
      "outputs": [],
      "source": [
        "df.expect_column_values_to_be_in_set('zipcode', ['0'])"
      ]
    },
    {
      "cell_type": "code",
      "execution_count": null,
      "id": "462a702e",
      "metadata": {
        "scrolled": false,
        "id": "462a702e"
      },
      "outputs": [],
      "source": [
        "df.expect_column_values_to_be_in_set('zipcode', [0], mostly=.99)"
      ]
    },
    {
      "cell_type": "markdown",
      "id": "88182455",
      "metadata": {
        "id": "88182455"
      },
      "source": [
        "## Obtendo as Expectativas"
      ]
    },
    {
      "cell_type": "code",
      "execution_count": null,
      "id": "95f6c265",
      "metadata": {
        "scrolled": false,
        "id": "95f6c265"
      },
      "outputs": [],
      "source": [
        "df.get_expectation_suite()"
      ]
    },
    {
      "cell_type": "markdown",
      "id": "651c1f29",
      "metadata": {
        "id": "651c1f29"
      },
      "source": [
        "Por padrão, ``get_expectation_suite()`` retorna apenas Expectations com ``success=True``. \n",
        "\n",
        "Você pode substituir esse comportamento com:"
      ]
    },
    {
      "cell_type": "code",
      "execution_count": null,
      "id": "128c36c7",
      "metadata": {
        "scrolled": true,
        "id": "128c36c7"
      },
      "outputs": [],
      "source": [
        "df.get_expectation_suite(discard_failed_expectations=False)"
      ]
    },
    {
      "cell_type": "markdown",
      "source": [
        "##desafio\n",
        "Crie um dataset contendo as seguites colunas:\n",
        "    nome\n",
        "    email\n",
        "    telefone\n",
        "    idade\n",
        "    \n",
        "expectativas:\n",
        "    pelo menos 10% tem que ser maior de idade\n",
        "    todos os emails devem ser sintaticamente validos\n",
        "    os telefones devem possuir dd + 9 digitos\n",
        "    "
      ],
      "metadata": {
        "id": "oFOWHJRlIouC"
      },
      "id": "oFOWHJRlIouC"
    },
    {
      "cell_type": "code",
      "source": [
        "!pip install faker\n"
      ],
      "metadata": {
        "id": "Aof3i3hjJdmg",
        "outputId": "6ffeb946-b27e-476c-8384-6fc1fbe04c28",
        "colab": {
          "base_uri": "https://localhost:8080/"
        }
      },
      "id": "Aof3i3hjJdmg",
      "execution_count": 66,
      "outputs": [
        {
          "output_type": "stream",
          "name": "stdout",
          "text": [
            "Looking in indexes: https://pypi.org/simple, https://us-python.pkg.dev/colab-wheels/public/simple/\n",
            "Collecting faker\n",
            "  Downloading Faker-18.3.1-py3-none-any.whl (1.7 MB)\n",
            "\u001b[2K     \u001b[90m━━━━━━━━━━━━━━━━━━━━━━━━━━━━━━━━━━━━━━━━\u001b[0m \u001b[32m1.7/1.7 MB\u001b[0m \u001b[31m28.0 MB/s\u001b[0m eta \u001b[36m0:00:00\u001b[0m\n",
            "\u001b[?25hRequirement already satisfied: python-dateutil>=2.4 in /usr/local/lib/python3.9/dist-packages (from faker) (2.8.2)\n",
            "Requirement already satisfied: six>=1.5 in /usr/local/lib/python3.9/dist-packages (from python-dateutil>=2.4->faker) (1.16.0)\n",
            "Installing collected packages: faker\n",
            "Successfully installed faker-18.3.1\n"
          ]
        }
      ]
    },
    {
      "cell_type": "code",
      "source": [],
      "metadata": {
        "id": "W7JkBhHpOtiR"
      },
      "id": "W7JkBhHpOtiR",
      "execution_count": null,
      "outputs": []
    },
    {
      "cell_type": "code",
      "source": [
        "from faker import Faker\n",
        "\n",
        "fake = Faker()\n",
        "\n",
        "fake_df = pd.DataFrame({\n",
        "    'name':  [fake.name() for i in range(10)],\n",
        "    'email': [fake.email() for i in range(10)],\n",
        "    'idade': [fake.random_int(min=18, max=99) for i in range(10)],\n",
        "    'telefone': [fake.phone_number() for i in range(10)]\n",
        "})\n",
        "\n",
        "fake_df"
      ],
      "metadata": {
        "id": "qtTKN1m_Iq7x",
        "outputId": "719c7c72-0263-47f3-ee72-493def742ee9",
        "colab": {
          "base_uri": "https://localhost:8080/",
          "height": 363
        }
      },
      "id": "qtTKN1m_Iq7x",
      "execution_count": 76,
      "outputs": [
        {
          "output_type": "execute_result",
          "data": {
            "text/plain": [
              "                 name                         email  idade  \\\n",
              "0   Patricia Robinson   waltersjennifer@example.com     94   \n",
              "1  Michael Stephenson          ocarlson@example.net     61   \n",
              "2        Austin Brown    kennethstevens@example.org     68   \n",
              "3        Melinda Long      alexandria04@example.net     69   \n",
              "4      Jeffrey Herman          thomas64@example.net     48   \n",
              "5      Maureen Harris    dariuswilliams@example.org     64   \n",
              "6         Mark Nelson  solomoncassandra@example.net     63   \n",
              "7   Robert Cunningham           kharper@example.org     18   \n",
              "8    Samantha Johnson          justin72@example.com     35   \n",
              "9     Cindy Blanchard            jack24@example.org     90   \n",
              "\n",
              "              telefone  \n",
              "0         212-192-2392  \n",
              "1     820.492.2699x475  \n",
              "2           4886436185  \n",
              "3    985.074.2042x6244  \n",
              "4     001-736-378-3051  \n",
              "5     001-471-668-6788  \n",
              "6  (825)585-5701x38003  \n",
              "7           6398708668  \n",
              "8     001-066-994-3621  \n",
              "9    728.610.8631x7321  "
            ],
            "text/html": [
              "\n",
              "  <div id=\"df-8ab73ec0-db33-4ebd-baa5-2a9495c8caee\">\n",
              "    <div class=\"colab-df-container\">\n",
              "      <div>\n",
              "<style scoped>\n",
              "    .dataframe tbody tr th:only-of-type {\n",
              "        vertical-align: middle;\n",
              "    }\n",
              "\n",
              "    .dataframe tbody tr th {\n",
              "        vertical-align: top;\n",
              "    }\n",
              "\n",
              "    .dataframe thead th {\n",
              "        text-align: right;\n",
              "    }\n",
              "</style>\n",
              "<table border=\"1\" class=\"dataframe\">\n",
              "  <thead>\n",
              "    <tr style=\"text-align: right;\">\n",
              "      <th></th>\n",
              "      <th>name</th>\n",
              "      <th>email</th>\n",
              "      <th>idade</th>\n",
              "      <th>telefone</th>\n",
              "    </tr>\n",
              "  </thead>\n",
              "  <tbody>\n",
              "    <tr>\n",
              "      <th>0</th>\n",
              "      <td>Patricia Robinson</td>\n",
              "      <td>waltersjennifer@example.com</td>\n",
              "      <td>94</td>\n",
              "      <td>212-192-2392</td>\n",
              "    </tr>\n",
              "    <tr>\n",
              "      <th>1</th>\n",
              "      <td>Michael Stephenson</td>\n",
              "      <td>ocarlson@example.net</td>\n",
              "      <td>61</td>\n",
              "      <td>820.492.2699x475</td>\n",
              "    </tr>\n",
              "    <tr>\n",
              "      <th>2</th>\n",
              "      <td>Austin Brown</td>\n",
              "      <td>kennethstevens@example.org</td>\n",
              "      <td>68</td>\n",
              "      <td>4886436185</td>\n",
              "    </tr>\n",
              "    <tr>\n",
              "      <th>3</th>\n",
              "      <td>Melinda Long</td>\n",
              "      <td>alexandria04@example.net</td>\n",
              "      <td>69</td>\n",
              "      <td>985.074.2042x6244</td>\n",
              "    </tr>\n",
              "    <tr>\n",
              "      <th>4</th>\n",
              "      <td>Jeffrey Herman</td>\n",
              "      <td>thomas64@example.net</td>\n",
              "      <td>48</td>\n",
              "      <td>001-736-378-3051</td>\n",
              "    </tr>\n",
              "    <tr>\n",
              "      <th>5</th>\n",
              "      <td>Maureen Harris</td>\n",
              "      <td>dariuswilliams@example.org</td>\n",
              "      <td>64</td>\n",
              "      <td>001-471-668-6788</td>\n",
              "    </tr>\n",
              "    <tr>\n",
              "      <th>6</th>\n",
              "      <td>Mark Nelson</td>\n",
              "      <td>solomoncassandra@example.net</td>\n",
              "      <td>63</td>\n",
              "      <td>(825)585-5701x38003</td>\n",
              "    </tr>\n",
              "    <tr>\n",
              "      <th>7</th>\n",
              "      <td>Robert Cunningham</td>\n",
              "      <td>kharper@example.org</td>\n",
              "      <td>18</td>\n",
              "      <td>6398708668</td>\n",
              "    </tr>\n",
              "    <tr>\n",
              "      <th>8</th>\n",
              "      <td>Samantha Johnson</td>\n",
              "      <td>justin72@example.com</td>\n",
              "      <td>35</td>\n",
              "      <td>001-066-994-3621</td>\n",
              "    </tr>\n",
              "    <tr>\n",
              "      <th>9</th>\n",
              "      <td>Cindy Blanchard</td>\n",
              "      <td>jack24@example.org</td>\n",
              "      <td>90</td>\n",
              "      <td>728.610.8631x7321</td>\n",
              "    </tr>\n",
              "  </tbody>\n",
              "</table>\n",
              "</div>\n",
              "      <button class=\"colab-df-convert\" onclick=\"convertToInteractive('df-8ab73ec0-db33-4ebd-baa5-2a9495c8caee')\"\n",
              "              title=\"Convert this dataframe to an interactive table.\"\n",
              "              style=\"display:none;\">\n",
              "        \n",
              "  <svg xmlns=\"http://www.w3.org/2000/svg\" height=\"24px\"viewBox=\"0 0 24 24\"\n",
              "       width=\"24px\">\n",
              "    <path d=\"M0 0h24v24H0V0z\" fill=\"none\"/>\n",
              "    <path d=\"M18.56 5.44l.94 2.06.94-2.06 2.06-.94-2.06-.94-.94-2.06-.94 2.06-2.06.94zm-11 1L8.5 8.5l.94-2.06 2.06-.94-2.06-.94L8.5 2.5l-.94 2.06-2.06.94zm10 10l.94 2.06.94-2.06 2.06-.94-2.06-.94-.94-2.06-.94 2.06-2.06.94z\"/><path d=\"M17.41 7.96l-1.37-1.37c-.4-.4-.92-.59-1.43-.59-.52 0-1.04.2-1.43.59L10.3 9.45l-7.72 7.72c-.78.78-.78 2.05 0 2.83L4 21.41c.39.39.9.59 1.41.59.51 0 1.02-.2 1.41-.59l7.78-7.78 2.81-2.81c.8-.78.8-2.07 0-2.86zM5.41 20L4 18.59l7.72-7.72 1.47 1.35L5.41 20z\"/>\n",
              "  </svg>\n",
              "      </button>\n",
              "      \n",
              "  <style>\n",
              "    .colab-df-container {\n",
              "      display:flex;\n",
              "      flex-wrap:wrap;\n",
              "      gap: 12px;\n",
              "    }\n",
              "\n",
              "    .colab-df-convert {\n",
              "      background-color: #E8F0FE;\n",
              "      border: none;\n",
              "      border-radius: 50%;\n",
              "      cursor: pointer;\n",
              "      display: none;\n",
              "      fill: #1967D2;\n",
              "      height: 32px;\n",
              "      padding: 0 0 0 0;\n",
              "      width: 32px;\n",
              "    }\n",
              "\n",
              "    .colab-df-convert:hover {\n",
              "      background-color: #E2EBFA;\n",
              "      box-shadow: 0px 1px 2px rgba(60, 64, 67, 0.3), 0px 1px 3px 1px rgba(60, 64, 67, 0.15);\n",
              "      fill: #174EA6;\n",
              "    }\n",
              "\n",
              "    [theme=dark] .colab-df-convert {\n",
              "      background-color: #3B4455;\n",
              "      fill: #D2E3FC;\n",
              "    }\n",
              "\n",
              "    [theme=dark] .colab-df-convert:hover {\n",
              "      background-color: #434B5C;\n",
              "      box-shadow: 0px 1px 3px 1px rgba(0, 0, 0, 0.15);\n",
              "      filter: drop-shadow(0px 1px 2px rgba(0, 0, 0, 0.3));\n",
              "      fill: #FFFFFF;\n",
              "    }\n",
              "  </style>\n",
              "\n",
              "      <script>\n",
              "        const buttonEl =\n",
              "          document.querySelector('#df-8ab73ec0-db33-4ebd-baa5-2a9495c8caee button.colab-df-convert');\n",
              "        buttonEl.style.display =\n",
              "          google.colab.kernel.accessAllowed ? 'block' : 'none';\n",
              "\n",
              "        async function convertToInteractive(key) {\n",
              "          const element = document.querySelector('#df-8ab73ec0-db33-4ebd-baa5-2a9495c8caee');\n",
              "          const dataTable =\n",
              "            await google.colab.kernel.invokeFunction('convertToInteractive',\n",
              "                                                     [key], {});\n",
              "          if (!dataTable) return;\n",
              "\n",
              "          const docLinkHtml = 'Like what you see? Visit the ' +\n",
              "            '<a target=\"_blank\" href=https://colab.research.google.com/notebooks/data_table.ipynb>data table notebook</a>'\n",
              "            + ' to learn more about interactive tables.';\n",
              "          element.innerHTML = '';\n",
              "          dataTable['output_type'] = 'display_data';\n",
              "          await google.colab.output.renderOutput(dataTable, element);\n",
              "          const docLink = document.createElement('div');\n",
              "          docLink.innerHTML = docLinkHtml;\n",
              "          element.appendChild(docLink);\n",
              "        }\n",
              "      </script>\n",
              "    </div>\n",
              "  </div>\n",
              "  "
            ]
          },
          "metadata": {},
          "execution_count": 76
        }
      ]
    },
    {
      "cell_type": "code",
      "source": [],
      "metadata": {
        "id": "DF2_ZDgzNLWC"
      },
      "id": "DF2_ZDgzNLWC",
      "execution_count": null,
      "outputs": []
    }
  ],
  "metadata": {
    "kernelspec": {
      "display_name": "Python 3",
      "language": "python",
      "name": "python3"
    },
    "language_info": {
      "codemirror_mode": {
        "name": "ipython",
        "version": 3
      },
      "file_extension": ".py",
      "mimetype": "text/x-python",
      "name": "python",
      "nbconvert_exporter": "python",
      "pygments_lexer": "ipython3",
      "version": "3.9.1"
    },
    "colab": {
      "provenance": []
    }
  },
  "nbformat": 4,
  "nbformat_minor": 5
}
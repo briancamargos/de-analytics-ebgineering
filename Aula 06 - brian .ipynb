{
 "cells": [
  {
   "cell_type": "markdown",
   "id": "18a6398a",
   "metadata": {},
   "source": [
    "## Instanciando um Contexto de Dados\n",
    "\n",
    "Obteremos um objeto DataContext com o seguinte código:"
   ]
  },
  {
   "cell_type": "code",
   "execution_count": 1,
   "id": "5379337f",
   "metadata": {},
   "outputs": [],
   "source": [
    "import great_expectations as gx\n",
    "\n",
    "context = gx.get_context()"
   ]
  },
  {
   "cell_type": "markdown",
   "id": "754e42ee",
   "metadata": {},
   "source": [
    "## Verificando o conteúdo do contexto de dados\n",
    "Podemos garantir que o Data Context foi instanciado corretamente imprimindo seu conteúdo."
   ]
  },
  {
   "cell_type": "code",
   "execution_count": 2,
   "id": "a9dacd50",
   "metadata": {},
   "outputs": [
    {
     "data": {
      "text/plain": [
       "{\n",
       "  \"anonymous_usage_statistics\": {\n",
       "    \"enabled\": true,\n",
       "    \"explicit_id\": true,\n",
       "    \"usage_statistics_url\": \"https://stats.greatexpectations.io/great_expectations/v1/usage_statistics\",\n",
       "    \"data_context_id\": \"a214ff4d-5608-440d-bf08-eea48d27c380\",\n",
       "    \"explicit_url\": false\n",
       "  },\n",
       "  \"checkpoint_store_name\": \"checkpoint_store\",\n",
       "  \"config_version\": 3,\n",
       "  \"data_docs_sites\": {\n",
       "    \"local_site\": {\n",
       "      \"class_name\": \"SiteBuilder\",\n",
       "      \"show_how_to_buttons\": true,\n",
       "      \"store_backend\": {\n",
       "        \"class_name\": \"TupleFilesystemStoreBackend\",\n",
       "        \"base_directory\": \"C:\\\\Users\\\\PCMATR~1\\\\AppData\\\\Local\\\\Temp\\\\tmpclhuah5t\"\n",
       "      },\n",
       "      \"site_index_builder\": {\n",
       "        \"class_name\": \"DefaultSiteIndexBuilder\"\n",
       "      }\n",
       "    }\n",
       "  },\n",
       "  \"datasources\": {},\n",
       "  \"evaluation_parameter_store_name\": \"evaluation_parameter_store\",\n",
       "  \"expectations_store_name\": \"expectations_store\",\n",
       "  \"include_rendered_content\": {\n",
       "    \"globally\": false,\n",
       "    \"expectation_validation_result\": false,\n",
       "    \"expectation_suite\": false\n",
       "  },\n",
       "  \"profiler_store_name\": \"profiler_store\",\n",
       "  \"stores\": {\n",
       "    \"expectations_store\": {\n",
       "      \"class_name\": \"ExpectationsStore\",\n",
       "      \"store_backend\": {\n",
       "        \"class_name\": \"InMemoryStoreBackend\"\n",
       "      }\n",
       "    },\n",
       "    \"validations_store\": {\n",
       "      \"class_name\": \"ValidationsStore\",\n",
       "      \"store_backend\": {\n",
       "        \"class_name\": \"InMemoryStoreBackend\"\n",
       "      }\n",
       "    },\n",
       "    \"evaluation_parameter_store\": {\n",
       "      \"class_name\": \"EvaluationParameterStore\"\n",
       "    },\n",
       "    \"checkpoint_store\": {\n",
       "      \"class_name\": \"CheckpointStore\",\n",
       "      \"store_backend\": {\n",
       "        \"class_name\": \"InMemoryStoreBackend\"\n",
       "      }\n",
       "    },\n",
       "    \"profiler_store\": {\n",
       "      \"class_name\": \"ProfilerStore\",\n",
       "      \"store_backend\": {\n",
       "        \"class_name\": \"InMemoryStoreBackend\"\n",
       "      }\n",
       "    }\n",
       "  },\n",
       "  \"validations_store_name\": \"validations_store\"\n",
       "}"
      ]
     },
     "execution_count": 2,
     "metadata": {},
     "output_type": "execute_result"
    }
   ],
   "source": [
    "context"
   ]
  },
  {
   "cell_type": "markdown",
   "id": "a0b809d8",
   "metadata": {},
   "source": [
    "## 2. Conectando aos dados\n",
    "Nos conectaremos aos dados .csv armazenados em nosso repositório:"
   ]
  },
  {
   "cell_type": "code",
   "execution_count": 4,
   "id": "4e852578",
   "metadata": {},
   "outputs": [],
   "source": [
    "validator = context.sources.pandas_default.read_csv('data/us_tax_data_2016.csv')"
   ]
  },
  {
   "cell_type": "markdown",
   "id": "21f9b3de",
   "metadata": {},
   "source": [
    "## 3. Criando Expectativas\n",
    "\n",
    "Quando lemos nossos dados .csv, recebemos uma instância do __Validator__ de volta. \n",
    "\n",
    "Um __Validador__ é um objeto capaz de armazenar Expectativas sobre os dados aos quais está associado, bem como realizar introspecções sobre esses dados.\n",
    "\n",
    "A seguir definiremos algumas Expectations.\n",
    "\n",
    "Com a Expectation definida abaixo, estamos afirmando que esperamos que a coluna ``agi_stub`` seja sempre preenchida. \n",
    "\n",
    "Ou seja: nenhum dos valores da coluna deve ser nulo."
   ]
  },
  {
   "cell_type": "code",
   "execution_count": 5,
   "id": "e4675243",
   "metadata": {
    "scrolled": true
   },
   "outputs": [
    {
     "data": {
      "application/vnd.jupyter.widget-view+json": {
       "model_id": "4f087dc164c348938158d990ed1fdc96",
       "version_major": 2,
       "version_minor": 0
      },
      "text/plain": [
       "Calculating Metrics:   0%|          | 0/6 [00:00<?, ?it/s]"
      ]
     },
     "metadata": {},
     "output_type": "display_data"
    },
    {
     "data": {
      "text/plain": [
       "{\n",
       "  \"meta\": {},\n",
       "  \"result\": {\n",
       "    \"element_count\": 179796,\n",
       "    \"unexpected_count\": 0,\n",
       "    \"unexpected_percent\": 0.0,\n",
       "    \"partial_unexpected_list\": []\n",
       "  },\n",
       "  \"success\": true,\n",
       "  \"exception_info\": {\n",
       "    \"raised_exception\": false,\n",
       "    \"exception_traceback\": null,\n",
       "    \"exception_message\": null\n",
       "  }\n",
       "}"
      ]
     },
     "execution_count": 5,
     "metadata": {},
     "output_type": "execute_result"
    }
   ],
   "source": [
    "validator.expect_column_values_to_not_be_null('agi_stub')"
   ]
  },
  {
   "cell_type": "markdown",
   "id": "3db6faf0",
   "metadata": {},
   "source": [
    "## 4. Validando os dados\n",
    "\n",
    "### 4.1 Executando as Expectativas definidas\n",
    "Agora que definimos nossas expectativas, é hora do GX fazer uma introspecção de nossos dados e ver se eles correspondem ao que dissemos a GX para esperar. Para isso, definimos um Checkpoint (que nos permitirá repetir a Validação no futuro)."
   ]
  },
  {
   "cell_type": "code",
   "execution_count": 6,
   "id": "4df4c322",
   "metadata": {},
   "outputs": [
    {
     "ename": "TypeError",
     "evalue": "SimpleCheckpoint.__init__() missing 1 required positional argument: 'data_context'",
     "output_type": "error",
     "traceback": [
      "\u001b[1;31m---------------------------------------------------------------------------\u001b[0m",
      "\u001b[1;31mTypeError\u001b[0m                                 Traceback (most recent call last)",
      "\u001b[1;32mc:\\PYTHON\\de-analytics-ebgineering\\Aula 06 - brian .ipynb Cell 10\u001b[0m in \u001b[0;36m1\n\u001b[1;32m----> <a href='vscode-notebook-cell:/c%3A/PYTHON/de-analytics-ebgineering/Aula%2006%20-%20brian%20.ipynb#X12sZmlsZQ%3D%3D?line=0'>1</a>\u001b[0m checkpoint \u001b[39m=\u001b[39m gx\u001b[39m.\u001b[39;49mcheckpoint\u001b[39m.\u001b[39;49mSimpleCheckpoint(name\u001b[39m=\u001b[39;49m\u001b[39m'\u001b[39;49m\u001b[39mmeu_checkpoint\u001b[39;49m\u001b[39m'\u001b[39;49m, date_context\u001b[39m=\u001b[39;49mcontext, validator\u001b[39m=\u001b[39;49mvalidator)\n",
      "\u001b[1;31mTypeError\u001b[0m: SimpleCheckpoint.__init__() missing 1 required positional argument: 'data_context'"
     ]
    }
   ],
   "source": [
    "checkpoint = gx.checkpoint.SimpleCheckpoint(name='meu_checkpoint', date_context=context, validator=validator)"
   ]
  },
  {
   "cell_type": "markdown",
   "id": "10ab059d",
   "metadata": {},
   "source": [
    "Uma vez criado o Checkpoint, vamos executá-lo e receber de volta os resultados da nossa Validação."
   ]
  },
  {
   "cell_type": "code",
   "execution_count": null,
   "id": "74fda6a5",
   "metadata": {},
   "outputs": [],
   "source": [
    "check_result = checkpoint.run()\n",
    "check_result"
   ]
  },
  {
   "cell_type": "markdown",
   "id": "f2fe7ef2",
   "metadata": {},
   "source": [
    "### 4.2 Visualizando os resultados\n",
    "O Great Expectations fornece uma maneira amigável e legível por humanos de visualizar os resultados de Validations: Data Docs. \n",
    "\n",
    "Nosso Checkpoint terá compilado automaticamente novos Data Docs para incluir os resultados da validação que executamos, para que possamos visualizá-los imediatamente:"
   ]
  },
  {
   "cell_type": "code",
   "execution_count": null,
   "id": "94f7a6cc",
   "metadata": {},
   "outputs": [],
   "source": [
    "val_result_identifier = checkpoint.list_validation_result_identifiers()[0]"
   ]
  },
  {
   "cell_type": "markdown",
   "id": "b745bbec",
   "metadata": {},
   "source": [
    "### 4.3 Salvando o contexto de dados para uso futuro\n",
    "Como não inicializamos anteriormente um Contexto de dados do sistema de arquivos ou especificamos um caminho para criar um, o Contexto de dados que recebemos de gx.get_context() era um Contexto de dados efêmero temporário na memória. \n",
    "\n",
    "Para salvar este Contexto de Dados para uso futuro, vamos convertê-lo em um Contexto de Dados do Sistema de Arquivos:"
   ]
  },
  {
   "cell_type": "code",
   "execution_count": null,
   "id": "f09aa2d6",
   "metadata": {},
   "outputs": [],
   "source": [
    "context.convert_to_file_context()"
   ]
  },
  {
   "cell_type": "markdown",
   "id": "60447fdd",
   "metadata": {},
   "source": [
    "Você pode fornecer o caminho para uma pasta específica ao converter seu contexto de dados efêmeros em um contexto de dados do sistema de arquivos.\n",
    "Se você fizer isso, seu contexto de dados do sistema de arquivos será inicializado nesse local. \n",
    "Caso contrário, seu novo contexto de dados do sistema de arquivos será inicializado na pasta em que seu script é executado."
   ]
  }
 ],
 "metadata": {
  "kernelspec": {
   "display_name": "Python 3",
   "language": "python",
   "name": "python3"
  },
  "language_info": {
   "codemirror_mode": {
    "name": "ipython",
    "version": 3
   },
   "file_extension": ".py",
   "mimetype": "text/x-python",
   "name": "python",
   "nbconvert_exporter": "python",
   "pygments_lexer": "ipython3",
   "version": "3.10.7"
  }
 },
 "nbformat": 4,
 "nbformat_minor": 5
}
